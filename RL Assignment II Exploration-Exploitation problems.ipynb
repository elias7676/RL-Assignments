{
 "cells": [
  {
   "cell_type": "markdown",
   "id": "21581f8e",
   "metadata": {},
   "source": [
    "### Elias Ibrahim GSR/1258/16"
   ]
  },
  {
   "cell_type": "markdown",
   "id": "349f5c80",
   "metadata": {},
   "source": [
    "#### 1. Epsilon-Greedy Implementation"
   ]
  },
  {
   "cell_type": "code",
   "execution_count": 1,
   "id": "5c4f426a",
   "metadata": {},
   "outputs": [],
   "source": [
    "import numpy as np"
   ]
  },
  {
   "cell_type": "code",
   "execution_count": 2,
   "id": "f86cc63e",
   "metadata": {},
   "outputs": [],
   "source": [
    "def epsilon_greedy(num_arms, true_reward_distributions, num_steps, epsilon):\n",
    "    # Initialize the estimated reward for each arm\n",
    "    estimated_rewards = np.zeros(num_arms)\n",
    "    # Initialize the number of times each arm has been pulled\n",
    "    arm_counts = np.zeros(num_arms)\n",
    "    total_reward = 0\n",
    "\n",
    "    for step in range(num_steps):\n",
    "        # Decide whether to explore or exploit\n",
    "        if np.random.rand() < epsilon:\n",
    "            # Explore: choose a random arm\n",
    "            chosen_arm = np.random.randint(num_arms)\n",
    "        else:\n",
    "            # Exploit: choose the arm with the highest estimated reward\n",
    "            chosen_arm = np.argmax(estimated_rewards)\n",
    "\n",
    "        # Pull the chosen arm and observe the reward\n",
    "        reward = np.random.normal(true_reward_distributions[chosen_arm], 1.0)\n",
    "        total_reward += reward\n",
    "\n",
    "        # Update the estimated reward for the chosen arm\n",
    "        arm_counts[chosen_arm] += 1\n",
    "        estimated_rewards[chosen_arm] += (reward - estimated_rewards[chosen_arm]) / arm_counts[chosen_arm]\n",
    "\n",
    "    return total_reward"
   ]
  },
  {
   "cell_type": "code",
   "execution_count": 4,
   "id": "9c0ac2ca",
   "metadata": {},
   "outputs": [],
   "source": [
    "num_arms = 5\n",
    "true_reward_distributions = [5.0, 3.0, 7.0, 2.0, 4.0]  # Mean rewards for each arm\n",
    "num_steps = 1000\n",
    "epsilon_values = [0.01, 0.1, 0.5]"
   ]
  },
  {
   "cell_type": "code",
   "execution_count": 5,
   "id": "39ddd1f1",
   "metadata": {},
   "outputs": [
    {
     "name": "stdout",
     "output_type": "stream",
     "text": [
      "Epsilon: 0.01, Total Reward: 5470.316660179572\n",
      "Epsilon: 0.1, Total Reward: 6696.840078488653\n",
      "Epsilon: 0.5, Total Reward: 5654.024132287425\n"
     ]
    }
   ],
   "source": [
    "for epsilon in epsilon_values:\n",
    "    total_reward = epsilon_greedy(num_arms, true_reward_distributions, num_steps, epsilon)\n",
    "    print(f\"Epsilon: {epsilon}, Total Reward: {total_reward}\")"
   ]
  },
  {
   "cell_type": "markdown",
   "id": "34d0756e",
   "metadata": {},
   "source": [
    "#### 2. UCB (Upper Confidence Bound) Algorithm"
   ]
  },
  {
   "cell_type": "code",
   "execution_count": 6,
   "id": "ae63b7cf",
   "metadata": {},
   "outputs": [],
   "source": [
    "def ucb(num_arms, true_reward_distributions, num_steps, c):\n",
    "    # Initialize the estimated reward for each arm\n",
    "    estimated_rewards = np.zeros(num_arms)\n",
    "    # Initialize the number of times each arm has been pulled\n",
    "    arm_counts = np.zeros(num_arms)\n",
    "    total_reward = 0\n",
    "\n",
    "    # Pull each arm once to initialize\n",
    "    for arm in range(num_arms):\n",
    "        reward = np.random.normal(true_reward_distributions[arm], 1.0)\n",
    "        total_reward += reward\n",
    "        arm_counts[arm] += 1\n",
    "        estimated_rewards[arm] = reward\n",
    "\n",
    "    for step in range(num_arms, num_steps):\n",
    "        # Calculate the UCB value for each arm\n",
    "        ucb_values = estimated_rewards + c * np.sqrt(np.log(step) / arm_counts)\n",
    "        # Choose the arm with the highest UCB value\n",
    "        chosen_arm = np.argmax(ucb_values)\n",
    "\n",
    "        # Pull the chosen arm and observe the reward\n",
    "        reward = np.random.normal(true_reward_distributions[chosen_arm], 1.0)\n",
    "        total_reward += reward\n",
    "\n",
    "        # Update the estimated reward for the chosen arm\n",
    "        arm_counts[chosen_arm] += 1\n",
    "        estimated_rewards[chosen_arm] += (reward - estimated_rewards[chosen_arm]) / arm_counts[chosen_arm]\n",
    "\n",
    "    return total_reward"
   ]
  },
  {
   "cell_type": "code",
   "execution_count": 7,
   "id": "e996b150",
   "metadata": {},
   "outputs": [
    {
     "name": "stdout",
     "output_type": "stream",
     "text": [
      "UCB (c=0.1), Total Reward: 7002.540438547405\n",
      "UCB (c=1.0), Total Reward: 6982.172081022118\n",
      "UCB (c=2.0), Total Reward: 6971.3925756777635\n"
     ]
    }
   ],
   "source": [
    "num_arms = 5\n",
    "true_reward_distributions = [5.0, 3.0, 7.0, 2.0, 4.0]  # Mean rewards for each arm\n",
    "num_steps = 1000\n",
    "c_values = [0.1, 1.0, 2.0]  # Exploration parameter for UCB\n",
    "\n",
    "for c in c_values:\n",
    "    total_reward = ucb(num_arms, true_reward_distributions, num_steps, c)\n",
    "    print(f\"UCB (c={c}), Total Reward: {total_reward}\")"
   ]
  },
  {
   "cell_type": "markdown",
   "id": "9453dc11",
   "metadata": {},
   "source": [
    "##### Epsilon-Greedy vs UCB"
   ]
  },
  {
   "cell_type": "code",
   "execution_count": 8,
   "id": "7d2d8921",
   "metadata": {},
   "outputs": [
    {
     "name": "stdout",
     "output_type": "stream",
     "text": [
      "Epsilon-Greedy (epsilon=0.01), Total Reward: 6843.349346558549\n",
      "Epsilon-Greedy (epsilon=0.1), Total Reward: 6526.040123914318\n",
      "Epsilon-Greedy (epsilon=0.5), Total Reward: 5554.648161198309\n"
     ]
    }
   ],
   "source": [
    "epsilon_values = [0.01, 0.1, 0.5]\n",
    "\n",
    "for epsilon in epsilon_values:\n",
    "    total_reward = epsilon_greedy(num_arms, true_reward_distributions, num_steps, epsilon)\n",
    "    print(f\"Epsilon-Greedy (epsilon={epsilon}), Total Reward: {total_reward}\")"
   ]
  },
  {
   "cell_type": "markdown",
   "id": "4dc84e48",
   "metadata": {},
   "source": [
    "#### 3. Thompson Sampling for Bernoulli Bandits"
   ]
  },
  {
   "cell_type": "code",
   "execution_count": 18,
   "id": "fbb24a97",
   "metadata": {},
   "outputs": [],
   "source": [
    "def thompson_sampling(num_arms, true_success_probabilities, num_steps):\n",
    "\n",
    "    # Initialize alpha and beta parameters for the Beta distribution of each arm\n",
    "    alpha = np.ones(num_arms)  # Success counts\n",
    "    beta = np.ones(num_arms)   # Failure counts\n",
    "    total_reward = 0\n",
    "\n",
    "    for step in range(num_steps):\n",
    "        # Sample a success probability for each arm from its Beta distribution\n",
    "        sampled_probs = np.random.beta(alpha, beta)\n",
    "        # Choose the arm with the highest sampled probability\n",
    "        chosen_arm = np.argmax(sampled_probs)\n",
    "\n",
    "        # Pull the chosen arm and observe the reward (1 for success, 0 for failure)\n",
    "        reward = np.random.binomial(1, true_success_probabilities[chosen_arm])\n",
    "        total_reward += reward\n",
    "\n",
    "        # Update the alpha and beta parameters for the chosen arm\n",
    "        if reward == 1:\n",
    "            alpha[chosen_arm] += 1\n",
    "        else:\n",
    "            beta[chosen_arm] += 1\n",
    "\n",
    "    return total_reward"
   ]
  },
  {
   "cell_type": "code",
   "execution_count": 16,
   "id": "507e6249",
   "metadata": {},
   "outputs": [],
   "source": [
    "num_arms = 5\n",
    "true_success_probabilities = [0.2, 0.5, 0.7, 0.3, 0.6]  # True success probabilities for each arm\n",
    "num_steps = 1000"
   ]
  },
  {
   "cell_type": "code",
   "execution_count": 17,
   "id": "9b1e01e0",
   "metadata": {},
   "outputs": [
    {
     "name": "stdout",
     "output_type": "stream",
     "text": [
      "Thompson Sampling, Total Reward: 656\n"
     ]
    }
   ],
   "source": [
    "total_reward = thompson_sampling(num_arms, true_success_probabilities, num_steps)\n",
    "print(f\"Thompson Sampling, Total Reward: {total_reward}\")"
   ]
  },
  {
   "cell_type": "markdown",
   "id": "c82bd30b",
   "metadata": {},
   "source": [
    "##### Epsilon-Greedy vs UCB vs Thompson Sampling"
   ]
  },
  {
   "cell_type": "code",
   "execution_count": 10,
   "id": "5983188f",
   "metadata": {},
   "outputs": [],
   "source": [
    "import matplotlib.pyplot as plt\n",
    "\n",
    "def run_comparison(num_arms, true_success_probabilities, num_steps, epsilon, c):\n",
    "    # Initialize variables to track cumulative rewards\n",
    "    ts_rewards = []\n",
    "    eg_rewards = []\n",
    "    ucb_rewards = []\n",
    "\n",
    "    # Initialize parameters for each algorithm\n",
    "    alpha = np.ones(num_arms)\n",
    "    beta = np.ones(num_arms)\n",
    "    estimated_rewards_eg = np.zeros(num_arms)\n",
    "    arm_counts_eg = np.zeros(num_arms)\n",
    "    estimated_rewards_ucb = np.zeros(num_arms)\n",
    "    arm_counts_ucb = np.zeros(num_arms)\n",
    "\n",
    "    for step in range(num_steps):\n",
    "        # Thompson Sampling\n",
    "        sampled_probs = np.random.beta(alpha, beta)\n",
    "        chosen_arm_ts = np.argmax(sampled_probs)\n",
    "        reward_ts = np.random.binomial(1, true_success_probabilities[chosen_arm_ts])\n",
    "        if reward_ts == 1:\n",
    "            alpha[chosen_arm_ts] += 1\n",
    "        else:\n",
    "            beta[chosen_arm_ts] += 1\n",
    "        ts_rewards.append(reward_ts)\n",
    "\n",
    "        # Epsilon-Greedy\n",
    "        if np.random.rand() < epsilon:\n",
    "            chosen_arm_eg = np.random.randint(num_arms)\n",
    "        else:\n",
    "            chosen_arm_eg = np.argmax(estimated_rewards_eg)\n",
    "        reward_eg = np.random.binomial(1, true_success_probabilities[chosen_arm_eg])\n",
    "        arm_counts_eg[chosen_arm_eg] += 1\n",
    "        estimated_rewards_eg[chosen_arm_eg] += (reward_eg - estimated_rewards_eg[chosen_arm_eg]) / arm_counts_eg[chosen_arm_eg]\n",
    "        eg_rewards.append(reward_eg)\n",
    "\n",
    "        # UCB\n",
    "        if step < num_arms:\n",
    "            chosen_arm_ucb = step\n",
    "        else:\n",
    "            ucb_values = estimated_rewards_ucb + c * np.sqrt(np.log(step) / arm_counts_ucb)\n",
    "            chosen_arm_ucb = np.argmax(ucb_values)\n",
    "        reward_ucb = np.random.binomial(1, true_success_probabilities[chosen_arm_ucb])\n",
    "        arm_counts_ucb[chosen_arm_ucb] += 1\n",
    "        estimated_rewards_ucb[chosen_arm_ucb] += (reward_ucb - estimated_rewards_ucb[chosen_arm_ucb]) / arm_counts_ucb[chosen_arm_ucb]\n",
    "        ucb_rewards.append(reward_ucb)\n",
    "\n",
    "    # Calculate cumulative rewards\n",
    "    ts_cumulative = np.cumsum(ts_rewards)\n",
    "    eg_cumulative = np.cumsum(eg_rewards)\n",
    "    ucb_cumulative = np.cumsum(ucb_rewards)\n",
    "\n",
    "    # Plot the results\n",
    "    plt.plot(ts_cumulative, label=\"Thompson Sampling\")\n",
    "    plt.plot(eg_cumulative, label=\"Epsilon-Greedy\")\n",
    "    plt.plot(ucb_cumulative, label=\"UCB\")\n",
    "    plt.xlabel(\"Steps\")\n",
    "    plt.ylabel(\"Cumulative Reward\")\n",
    "    plt.title(\"Comparison of Thompson Sampling, Epsilon-Greedy, and UCB\")\n",
    "    plt.legend()\n",
    "    plt.show()"
   ]
  },
  {
   "cell_type": "code",
   "execution_count": 11,
   "id": "be000be4",
   "metadata": {},
   "outputs": [],
   "source": [
    "# Run the comparison\n",
    "num_arms = 5\n",
    "true_success_probabilities = [0.2, 0.5, 0.7, 0.3, 0.6]\n",
    "num_steps = 1000\n",
    "epsilon = 0.1\n",
    "c = 1.0"
   ]
  },
  {
   "cell_type": "code",
   "execution_count": 12,
   "id": "eb755ac0",
   "metadata": {},
   "outputs": [
    {
     "data": {
      "image/png": "[encoded data removed]",
      "text/plain": [
       "<Figure size 640x480 with 1 Axes>"
      ]
     },
     "metadata": {},
     "output_type": "display_data"
    }
   ],
   "source": [
    "run_comparison(num_arms, true_success_probabilities, num_steps, epsilon, c)"
   ]
  },
  {
   "cell_type": "code",
   "execution_count": null,
   "id": "713c4942",
   "metadata": {},
   "outputs": [],
   "source": []
  }
 ],
 "metadata": {
  "kernelspec": {
   "display_name": "Python 3 (ipykernel)",
   "language": "python",
   "name": "python3"
  },
  "language_info": {
   "codemirror_mode": {
    "name": "ipython",
    "version": 3
   },
   "file_extension": ".py",
   "mimetype": "text/x-python",
   "name": "python",
   "nbconvert_exporter": "python",
   "pygments_lexer": "ipython3",
   "version": "3.11.3"
  }
 },
 "nbformat": 4,
 "nbformat_minor": 5
}
